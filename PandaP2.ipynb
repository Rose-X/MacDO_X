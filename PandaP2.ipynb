{
  "nbformat": 4,
  "nbformat_minor": 0,
  "metadata": {
    "colab": {
      "provenance": [],
      "authorship_tag": "ABX9TyMKZ00lwPTH4Fx/ewdEZtw/",
      "include_colab_link": true
    },
    "kernelspec": {
      "name": "python3",
      "display_name": "Python 3"
    },
    "language_info": {
      "name": "python"
    }
  },
  "cells": [
    {
      "cell_type": "markdown",
      "metadata": {
        "id": "view-in-github",
        "colab_type": "text"
      },
      "source": [
        "<a href=\"https://colab.research.google.com/github/Rose-X/MacDO_X/blob/main/PandaP2.ipynb\" target=\"_parent\"><img src=\"https://colab.research.google.com/assets/colab-badge.svg\" alt=\"Open In Colab\"/></a>"
      ]
    },
    {
      "cell_type": "markdown",
      "source": [
        "Create a Pandas Series from a dictionary where keys are ['a', 'b', 'c'] and values are [100, 200, 300].\n",
        "\n",
        "\n"
      ],
      "metadata": {
        "id": "o4vAcwD0-_RU"
      }
    },
    {
      "cell_type": "code",
      "source": [
        "import numpy as np\n",
        "import pandas as pd\n",
        "\n",
        "series = {\"a\" : 100 , \"b\" : 200 , \"c\" : 300 }\n",
        "s_series = pd.Series(data=series)\n",
        "print(s_series)"
      ],
      "metadata": {
        "colab": {
          "base_uri": "https://localhost:8080/"
        },
        "id": "2K49LJAD_D4T",
        "outputId": "1f374a0e-05a3-48d5-abe5-70c41e88b93c"
      },
      "execution_count": null,
      "outputs": [
        {
          "output_type": "stream",
          "name": "stdout",
          "text": [
            "a    100\n",
            "b    200\n",
            "c    300\n",
            "dtype: int64\n"
          ]
        }
      ]
    },
    {
      "cell_type": "markdown",
      "source": [
        "Exercice 2 : Creating DataFrames\n"
      ],
      "metadata": {
        "id": "DfdNh1m8_Lln"
      }
    },
    {
      "cell_type": "code",
      "source": [
        "import numpy as np\n",
        "import pandas as pd\n",
        "from numpy.random import randn\n",
        "\n",
        "data = [[1, 2, 3], [4, 5, 6], [7, 8, 9]]\n",
        "\n",
        "df = pd.DataFrame(data, columns=[\"A\", \"B\" , \"C\"] )\n",
        "\n",
        "#print(df)\n",
        "\n",
        "# On ajoute le D\n",
        "\n",
        "df[\"D\"]=[10,11,12]\n",
        "\n",
        "\n",
        "print(\"\\\\\\\\\\\\\\\\\\\\\\\\\\\\\\\\\\\\\\\\\\\\\\\\\\\\\\\\\\\\\\\\\\\\\\\\\\\\\\\\\\\\\")\n",
        "#print(df)\n",
        "\n",
        "#Drop B\n",
        "#df.drop(\"B\", axis=1, inplace=True)\n",
        "#print(df)\n",
        "#ou drop vraiment\n",
        "df = df.drop(\"B\", axis=1)\n",
        "print(df)"
      ],
      "metadata": {
        "colab": {
          "base_uri": "https://localhost:8080/"
        },
        "id": "gX6F5xQN_NEM",
        "outputId": "39246981-f735-4ca3-be54-4e15645bbc2d"
      },
      "execution_count": null,
      "outputs": [
        {
          "output_type": "stream",
          "name": "stdout",
          "text": [
            "\\\\\\\\\\\\\\\\\\\\\\\\\\\\\\\\\\\\\\\\\\\n",
            "   A  C   D\n",
            "0  1  3  10\n",
            "1  4  6  11\n",
            "2  7  9  12\n"
          ]
        }
      ]
    },
    {
      "cell_type": "markdown",
      "source": [
        "EXO 3"
      ],
      "metadata": {
        "id": "ozEYRPsxFbSD"
      }
    },
    {
      "cell_type": "code",
      "source": [
        "import numpy as np\n",
        "import pandas as pd\n",
        "from numpy.random import randn\n",
        "\n",
        "data = [[1, 2, 3], [4, 5, 6], [7, 8, 9]]\n",
        "\n",
        "df = pd.DataFrame(data, columns=[\"A\", \"B\" , \"C\"] )\n",
        "\n",
        "df = df[[\"A\", \"C\"]] #on select que le A et B\n",
        "#print(df)\n",
        "\n",
        "df = df.loc[1]  #puis avec loc on selection que l index 1 avec .loc\n",
        "print(df)"
      ],
      "metadata": {
        "id": "q50MEJWiFct9"
      },
      "execution_count": null,
      "outputs": []
    },
    {
      "cell_type": "markdown",
      "source": [
        "EXO4"
      ],
      "metadata": {
        "id": "qB3kb-_OIDay"
      }
    },
    {
      "cell_type": "code",
      "source": [
        "import numpy as np\n",
        "import pandas as pd\n",
        "from numpy.random import randn\n",
        "\n",
        "data = [[1, 2, 3], [4, 5, 6], [7, 8, 9]]\n",
        "\n",
        "df = pd.DataFrame(data, columns=[\"A\", \"B\" , \"C\"] )\n",
        "\n",
        "df[\"sums\"] = df.sum(axis=1)\n",
        "#print(df)\n",
        "\n",
        "#Drop la col sum dataframe\n",
        "\n",
        "df = df.drop(\"sums\" ,  axis=1)\n",
        "#print(df)\n",
        "\n",
        "#mettre le numpy\n",
        "\n",
        "df[\"Random\"] = np.random.randn(len(df))  #numpy pour avoir des nb alt\n",
        "print(df)\n",
        "\n"
      ],
      "metadata": {
        "colab": {
          "base_uri": "https://localhost:8080/"
        },
        "id": "NvaZESOSIEil",
        "outputId": "1110bca5-2939-4b6e-f4ff-1369b9b5674e"
      },
      "execution_count": null,
      "outputs": [
        {
          "output_type": "stream",
          "name": "stdout",
          "text": [
            "   A  B  C    Random\n",
            "0  1  2  3  0.251562\n",
            "1  4  5  6 -0.292010\n",
            "2  7  8  9 -0.744895\n"
          ]
        }
      ]
    },
    {
      "cell_type": "markdown",
      "source": [
        "EXO5"
      ],
      "metadata": {
        "id": "-CJZn9IQrhZm"
      }
    },
    {
      "cell_type": "code",
      "source": [
        "import numpy as np\n",
        "import pandas as pd\n",
        "from numpy.random import randn\n",
        "\n",
        "data = {\n",
        "\n",
        "         'Key' : [1,2,3],\n",
        "         'A' : [\"A1\",\"A2\",\"A3\"],\n",
        "         'B ' :  [\"B1\",\"B2\",\"B3\"]\n",
        "\n",
        "\n",
        "\n",
        "        }\n",
        "\n",
        "\n",
        "data2 = {\n",
        "\n",
        "         'Key' : [1,2,3],\n",
        "         'C' : [\"C1\",\"C2\",\"C3\"],\n",
        "         'D ' :  [\"D1\",\"D2\",\"D3\"]\n",
        "\n",
        "\n",
        "\n",
        "        }\n",
        "\n",
        "df2 = pd.DataFrame(data2) #création du dataframe data2\n",
        "\n",
        "df = pd.DataFrame(data) #Création du dataframe data\n",
        "\n",
        "\n",
        "\n",
        "print(f'Left : \\n {df}')\n",
        "print('\\t')\n",
        "print(f'Right : \\n {df2}')\n",
        "\n",
        "\n",
        "#faire la fusion\n",
        "joint = pd.merge(df, df2) # permet de faire fusion avec merge\n",
        "print('\\t')\n",
        "\n",
        "print(f' fusion : \\n {joint}')\n",
        "\n",
        "#Rajoute E\n",
        "\n",
        "df2[\"E\"] = [\"E1\", \"E2\" , \"E3\"]  # On rajoute le E1 dans data1\n",
        "\n",
        "joint = pd.merge(df, df2)  #on rafait une jointure\n",
        "\n",
        "print('\\n')\n",
        "print(joint)\n",
        "\n",
        "\n",
        "\n",
        "\n"
      ],
      "metadata": {
        "id": "2VQVzoK2rixd"
      },
      "execution_count": null,
      "outputs": []
    },
    {
      "cell_type": "markdown",
      "source": [
        "EXO6"
      ],
      "metadata": {
        "id": "uc7mUXd0zSY0"
      }
    },
    {
      "cell_type": "code",
      "source": [
        "import numpy as np\n",
        "import pandas as pd\n",
        "from numpy.random import randn\n",
        "\n",
        "data = {\n",
        "\n",
        "\n",
        "         'A' : [1.0,np.nan , 7.0,] #np.nan valeur manquante\n",
        "\n",
        "\n",
        "\n",
        "\n",
        "        }\n",
        "\n",
        "\n",
        "data2 = {\n",
        "\n",
        "\n",
        "         'B' : [np.nan,5.0,8.0]\n",
        "\n",
        "\n",
        "\n",
        "\n",
        "        }\n",
        "\n",
        "data3 = {\n",
        "\n",
        "    'C' : [3.0, 6.0, np.nan]\n",
        "\n",
        "\n",
        "\n",
        "    }\n",
        "\n",
        "\n",
        "df = pd.DataFrame(data)\n",
        "df2 = pd.DataFrame(data2)\n",
        "df3 = pd.DataFrame(data3)\n",
        "\n",
        "joint = pd.concat([df,df2,df3], axis=1 )\n",
        "print(joint)\n",
        "\n",
        "\n",
        "\n",
        "\n",
        "df_m = df.fillna(df.mean()) #on fait la moy et on place dans nan\n",
        "df2_m = df2.fillna(df2.mean())\n",
        "df3_m = df3.fillna(df3.mean())\n",
        "\n",
        "joint2 = pd.concat([df_m, df2_m, df3_m], axis=1 ) # on re fait la  jointure\n",
        "print(joint2)\n",
        "\n",
        "\n",
        "\n"
      ],
      "metadata": {
        "colab": {
          "base_uri": "https://localhost:8080/"
        },
        "id": "v-hQ3mSazUnQ",
        "outputId": "295ff99a-00a5-44eb-eb91-d334089d8ff1"
      },
      "execution_count": null,
      "outputs": [
        {
          "output_type": "stream",
          "name": "stdout",
          "text": [
            "     A    B    C\n",
            "0  1.0  NaN  3.0\n",
            "1  NaN  5.0  6.0\n",
            "2  7.0  8.0  NaN\n",
            "     A    B    C\n",
            "0  1.0  6.5  3.0\n",
            "1  4.0  5.0  6.0\n",
            "2  7.0  8.0  4.5\n"
          ]
        }
      ]
    },
    {
      "cell_type": "markdown",
      "source": [
        "EXO 6 DROP NAN"
      ],
      "metadata": {
        "id": "v_BAYsnJ60Yf"
      }
    },
    {
      "cell_type": "code",
      "source": [
        "import numpy as np\n",
        "import pandas as pd\n",
        "from numpy.random import randn\n",
        "\n",
        "data = {\n",
        "\n",
        "\n",
        "         'A' : [1.0,np.nan , 7.0,] #np.nan valeur manquante\n",
        "\n",
        "\n",
        "\n",
        "\n",
        "        }\n",
        "\n",
        "\n",
        "data2 = {\n",
        "\n",
        "\n",
        "         'B' : [np.nan,5.0,8.0]\n",
        "\n",
        "\n",
        "\n",
        "\n",
        "        }\n",
        "\n",
        "data3 = {\n",
        "\n",
        "    'C' : [3.0, 6.0, np.nan]\n",
        "\n",
        "\n",
        "\n",
        "    }\n",
        "\n",
        "\n",
        "df = pd.DataFrame(data)\n",
        "df2 = pd.DataFrame(data2)\n",
        "df3 = pd.DataFrame(data3)\n",
        "\n",
        "joint = pd.concat([df,df2,df3], axis=1 )\n",
        "\n",
        "\n",
        "joint = joint.dropna(axis=0, how=\"any\") # on supprime nous les lignes dans joint ou y  a rien\n",
        "\n",
        "\n",
        "print(joint)\n",
        "\n",
        "\n",
        "\n",
        "\n"
      ],
      "metadata": {
        "colab": {
          "base_uri": "https://localhost:8080/"
        },
        "id": "PAZwh_FS64WL",
        "outputId": "a0b12d80-649e-4568-bf4d-d6dd031cf928"
      },
      "execution_count": null,
      "outputs": [
        {
          "output_type": "stream",
          "name": "stdout",
          "text": [
            "Empty DataFrame\n",
            "Columns: [A, B, C]\n",
            "Index: []\n"
          ]
        }
      ]
    },
    {
      "cell_type": "markdown",
      "source": [
        "EXO7"
      ],
      "metadata": {
        "id": "YTcu0mD29tI6"
      }
    },
    {
      "cell_type": "code",
      "source": [
        "import numpy as np\n",
        "import pandas as pd\n",
        "from numpy.random import randn\n",
        "\n",
        "\n",
        "\n",
        "\n",
        "\n",
        "# Creating the DataFrame\n",
        "data = {\n",
        "    \"Category\": [\"A\", \"B\", \"A\", \"B\", \"A\", \"B\"],\n",
        "    \"Value\": [1, 2, 3, 4, 5, 6]\n",
        "}\n",
        "\n",
        "df = pd.DataFrame(data)\n",
        "\n",
        "print(df)\n",
        "mean_values = df.groupby(\"Category\")[\"Value\"].mean()\n",
        "\n",
        "print(\" PR:\\n\", mean_values)\n",
        "\n",
        "#cal la moy\n",
        "sum1 = df.groupby(\"Category\")[\"Value\"].sum()\n",
        "print(sum1)\n",
        "\n",
        "#avec les catg\n",
        "\n",
        "count = df.groupby(\"Category\")[\"Value\"].count()\n",
        "print(count)\n"
      ],
      "metadata": {
        "colab": {
          "base_uri": "https://localhost:8080/"
        },
        "id": "LZUVpfF-9uWj",
        "outputId": "641d219c-c927-4037-a417-95801791ffd0"
      },
      "execution_count": null,
      "outputs": [
        {
          "output_type": "stream",
          "name": "stdout",
          "text": [
            "  Category  Value\n",
            "0        A      1\n",
            "1        B      2\n",
            "2        A      3\n",
            "3        B      4\n",
            "4        A      5\n",
            "5        B      6\n",
            " PR:\n",
            " Category\n",
            "A    3.0\n",
            "B    4.0\n",
            "Name: Value, dtype: float64\n",
            "Category\n",
            "A     9\n",
            "B    12\n",
            "Name: Value, dtype: int64\n",
            "Category\n",
            "A    3\n",
            "B    3\n",
            "Name: Value, dtype: int64\n"
          ]
        }
      ]
    },
    {
      "cell_type": "markdown",
      "source": [
        "EXO 8"
      ],
      "metadata": {
        "id": "1VVRlGufLn_v"
      }
    },
    {
      "cell_type": "code",
      "source": [
        "\n",
        "import pandas as pd\n",
        "\n",
        "tb = {\n",
        "    'Category': ['A', 'A', 'A', 'B', 'B', 'B'],\n",
        "    'Type':     ['X', 'Y', 'X', 'Y', 'X', 'Y'],\n",
        "    'Value':    [1,   2,   3,   4,   5,   6]\n",
        "}\n",
        "tbb = pd.DataFrame(tb)\n",
        "print(tbb)\n",
        "\n",
        "pivot = tbb.pivot_table( #pivot\n",
        "\n",
        "    values='Value',     #la colone numérique\n",
        "    index='Category',  #pour les linges\n",
        "    columns='Type',     #colonnes\n",
        "    aggfunc='mean'     #permet de cal la moye\n",
        ")\n",
        "print(pivot)\n",
        "\n",
        "\n",
        "\n",
        "pivot_sum = tbb.pivot_table( # rajouter le sum\n",
        "\n",
        "    values='Value',\n",
        "    index='Category',\n",
        "    columns='Type',\n",
        "    aggfunc='sum'      #sum\n",
        ")\n",
        "\n",
        "\n",
        "print(pivot_sum)\n",
        "\n",
        "pivot_3 = tbb.pivot_table(\n",
        "    values='Value',\n",
        "    index='Category',\n",
        "    columns='Type',\n",
        "    aggfunc='mean',\n",
        "    margins=True,\n",
        "    margins_name='Total'\n",
        ")\n",
        "\n",
        "print(pivot_3)"
      ],
      "metadata": {
        "colab": {
          "base_uri": "https://localhost:8080/"
        },
        "id": "MxWnb7rDLpSH",
        "outputId": "46709e26-9bb1-4d01-c3b0-d46aafe85157"
      },
      "execution_count": null,
      "outputs": [
        {
          "output_type": "stream",
          "name": "stdout",
          "text": [
            "  Category Type  Value\n",
            "0        A    X      1\n",
            "1        A    Y      2\n",
            "2        A    X      3\n",
            "3        B    Y      4\n",
            "4        B    X      5\n",
            "5        B    Y      6\n",
            "Type        X    Y\n",
            "Category          \n",
            "A         2.0  2.0\n",
            "B         5.0  5.0\n",
            "Type      X   Y\n",
            "Category       \n",
            "A         4   2\n",
            "B         5  10\n",
            "Type        X    Y  Total\n",
            "Category                 \n",
            "A         2.0  2.0    2.0\n",
            "B         5.0  5.0    5.0\n",
            "Total     3.0  4.0    3.5\n"
          ]
        }
      ]
    },
    {
      "cell_type": "markdown",
      "source": [
        "EXO9"
      ],
      "metadata": {
        "id": "wPwwOy54bqLx"
      }
    },
    {
      "cell_type": "code",
      "source": [
        "import pandas as pd\n",
        "import numpy as np\n",
        "\n",
        "df = pd.DataFrame({\n",
        "    'Date': pd.date_range(start='2023-01-01', periods=6, freq='D'),\n",
        "    'Value': np.random.randn(6) #faire des nb alt\n",
        "})\n",
        "\n",
        "print(df)\n",
        "print()\n",
        "\n",
        "df.set_index('Date', inplace=True) #RAJOUTER DATE COL\n",
        "\n",
        "print(df)\n",
        "print()\n",
        "\n",
        "resampled_df = df.resample('2D').sum() #CAL LA MOY\n",
        "\n",
        "print(resampled_df)\n"
      ],
      "metadata": {
        "id": "zmV_9WiabsgX",
        "colab": {
          "base_uri": "https://localhost:8080/"
        },
        "outputId": "072494ba-6683-415f-eb98-1312db12de3b"
      },
      "execution_count": 1,
      "outputs": [
        {
          "output_type": "stream",
          "name": "stdout",
          "text": [
            "        Date     Value\n",
            "0 2023-01-01 -0.445632\n",
            "1 2023-01-02 -0.072262\n",
            "2 2023-01-03 -0.443815\n",
            "3 2023-01-04 -0.422562\n",
            "4 2023-01-05 -0.217544\n",
            "5 2023-01-06  0.512379\n",
            "\n",
            "               Value\n",
            "Date                \n",
            "2023-01-01 -0.445632\n",
            "2023-01-02 -0.072262\n",
            "2023-01-03 -0.443815\n",
            "2023-01-04 -0.422562\n",
            "2023-01-05 -0.217544\n",
            "2023-01-06  0.512379\n",
            "\n",
            "               Value\n",
            "Date                \n",
            "2023-01-01 -0.517895\n",
            "2023-01-03 -0.866377\n",
            "2023-01-05  0.294835\n"
          ]
        }
      ]
    },
    {
      "cell_type": "markdown",
      "source": [
        "exo 10"
      ],
      "metadata": {
        "id": "63RRs134gXSN"
      }
    },
    {
      "cell_type": "code",
      "source": [
        "import pandas as pd\n",
        "import numpy as np\n",
        "\n",
        "df = pd.DataFrame({\n",
        "    'A': [1.0, 2.0, np.nan],\n",
        "    'B': [np.nan, 5.0, 8.0],\n",
        "    'C': [3.0, np.nan, 9.0]\n",
        "})\n",
        "print(df, \"\\n\")\n",
        "\n",
        "df_interpolated = df.interpolate() #rajoute les valeurs manq\n",
        "print(df_interpolated)\n",
        "\n",
        "df_dropped = df.dropna(how='any') #sup les lignes ou y  a des valeurs ou  y a r\n",
        "print(df_dropped)"
      ],
      "metadata": {
        "colab": {
          "base_uri": "https://localhost:8080/"
        },
        "id": "X7lsuw1UgZOC",
        "outputId": "d7dcb5ab-8e73-4ba4-d174-07cf4991b85d"
      },
      "execution_count": 2,
      "outputs": [
        {
          "output_type": "stream",
          "name": "stdout",
          "text": [
            "     A    B    C\n",
            "0  1.0  NaN  3.0\n",
            "1  2.0  5.0  NaN\n",
            "2  NaN  8.0  9.0 \n",
            "\n",
            "     A    B    C\n",
            "0  1.0  NaN  3.0\n",
            "1  2.0  5.0  6.0\n",
            "2  2.0  8.0  9.0\n",
            "Empty DataFrame\n",
            "Columns: [A, B, C]\n",
            "Index: []\n"
          ]
        }
      ]
    },
    {
      "cell_type": "markdown",
      "source": [
        "11"
      ],
      "metadata": {
        "id": "JU0W1zyZinwX"
      }
    },
    {
      "cell_type": "code",
      "source": [
        "import pandas as pd\n",
        "\n",
        "df = pd.DataFrame({\n",
        "    'A': [1, 4, 7],\n",
        "    'B': [2, 5, 8],\n",
        "    'C': [3, 6, 9]\n",
        "})\n",
        "\n",
        "print(df, \"\\n\")\n",
        "\n",
        "df_csum = df.cumsum()\n",
        "print(df_csum, \"\\n\")\n",
        "\n",
        "df_cprod = df.cumprod()\n",
        "print(df_cprod, \"\\n\")\n",
        "\n",
        "df = df.applymap(lambda x: x - 1) #on utilise lambda x -1\n",
        "\n",
        "print(df)"
      ],
      "metadata": {
        "colab": {
          "base_uri": "https://localhost:8080/"
        },
        "id": "KCUNVnOpiogy",
        "outputId": "b026f13c-b2e2-4b62-869a-168a6963d3d0"
      },
      "execution_count": 3,
      "outputs": [
        {
          "output_type": "stream",
          "name": "stdout",
          "text": [
            "   A  B  C\n",
            "0  1  2  3\n",
            "1  4  5  6\n",
            "2  7  8  9 \n",
            "\n",
            "    A   B   C\n",
            "0   1   2   3\n",
            "1   5   7   9\n",
            "2  12  15  18 \n",
            "\n",
            "    A   B    C\n",
            "0   1   2    3\n",
            "1   4  10   18\n",
            "2  28  80  162 \n",
            "\n",
            "   A  B  C\n",
            "0  0  1  2\n",
            "1  3  4  5\n",
            "2  6  7  8\n"
          ]
        },
        {
          "output_type": "stream",
          "name": "stderr",
          "text": [
            "<ipython-input-3-64752fbd6ec9>:17: FutureWarning: DataFrame.applymap has been deprecated. Use DataFrame.map instead.\n",
            "  df = df.applymap(lambda x: x - 1) #on utilise lambda x -1\n"
          ]
        }
      ]
    }
  ]
}